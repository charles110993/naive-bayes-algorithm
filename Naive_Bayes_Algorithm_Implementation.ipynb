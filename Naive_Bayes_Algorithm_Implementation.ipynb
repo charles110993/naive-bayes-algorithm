{
  "nbformat": 4,
  "nbformat_minor": 0,
  "metadata": {
    "colab": {
      "provenance": []
    },
    "kernelspec": {
      "name": "python3",
      "display_name": "Python 3"
    },
    "language_info": {
      "name": "python"
    }
  },
  "cells": [
    {
      "cell_type": "code",
      "source": [
        "import numpy as np\n",
        "import pandas as pd"
      ],
      "metadata": {
        "id": "GMcj2BWa3uWP"
      },
      "execution_count": 1,
      "outputs": []
    },
    {
      "cell_type": "code",
      "source": [
        "class NaiveBayes:\n",
        "    def fit(self, X, y):\n",
        "        self.classes = np.unique(y)\n",
        "        self.class_probabilities = self.calculate_class_probabilities(y)\n",
        "        self.feature_probabilities = self.calculate_feature_probabilities(X, y)"
      ],
      "metadata": {
        "id": "6BV5eTnj33Xo"
      },
      "execution_count": 2,
      "outputs": []
    },
    {
      "cell_type": "code",
      "source": [
        "def calculate_class_probabilities(self, y):\n",
        "        class_counts = np.bincount(y)\n",
        "        return class_counts / float(np.sum(class_counts))"
      ],
      "metadata": {
        "id": "9UN9vzZj36zi"
      },
      "execution_count": 3,
      "outputs": []
    },
    {
      "cell_type": "code",
      "source": [
        "def calculate_feature_probabilities(self, X, y):\n",
        "        feature_probabilities = {}\n",
        "\n",
        "        for feature_index in range(X.shape[1]):\n",
        "            feature_values = np.unique(X[:, feature_index])\n",
        "            probabilities = {}\n",
        "\n",
        "            for cls in self.classes:\n",
        "                cls_indices = np.where(y == cls)\n",
        "                cls_feature_values = X[cls_indices, feature_index][0]\n",
        "                value_counts = np.bincount(cls_feature_values)\n",
        "\n",
        "                probabilities[cls] = (value_counts + 1) / float(np.sum(value_counts) + len(feature_values))\n",
        "\n",
        "            feature_probabilities[feature_index] = probabilities\n",
        "\n",
        "        return feature_probabilities\n"
      ],
      "metadata": {
        "id": "G5rHbrYX3_iJ"
      },
      "execution_count": 4,
      "outputs": []
    },
    {
      "cell_type": "code",
      "source": [
        "def predict(self, X):\n",
        "        predictions = []\n",
        "\n",
        "        for i in range(X.shape[0]):\n",
        "            probabilities = []\n",
        "\n",
        "            for cls in self.classes:\n",
        "                class_probability = self.class_probabilities[cls]\n",
        "\n",
        "                for feature_index in range(X.shape[1]):\n",
        "                    feature_value = X[i, feature_index]\n",
        "                    feature_probability = self.feature_probabilities[feature_index][cls][feature_value]\n",
        "                    class_probability *= feature_probability\n",
        "\n",
        "                probabilities.append(class_probability)\n",
        "\n",
        "            predicted_class = np.argmax(probabilities)\n",
        "            predictions.append(predicted_class)\n",
        "\n",
        "        return np.array(predictions)"
      ],
      "metadata": {
        "id": "YgWP-Odo4G8x"
      },
      "execution_count": 5,
      "outputs": []
    },
    {
      "cell_type": "code",
      "source": [
        "def preprocess_data(df):\n",
        "    # Perform data preprocessing steps here\n",
        "    # For example, handle missing values, encode categorical variables, normalize numerical features, etc.\n",
        "    # Make sure to return the preprocessed data as X and y\n",
        "\n",
        "    # Drop non-informative columns\n",
        "    df = df.drop(['PassengerId', 'Name', 'Ticket', 'Cabin'], axis=1)\n",
        "\n",
        "    # Handle missing values\n",
        "    df['Age'].fillna(df['Age'].mean(), inplace=True)\n",
        "    df['Embarked'].fillna(df['Embarked'].mode()[0], inplace=True)\n",
        "    df['Fare'].fillna(df['Fare'].mean(), inplace=True)\n",
        "\n",
        "    # Convert categorical variables to one-hot encoding\n",
        "    df = pd.get_dummies(df, columns=['Sex', 'Embarked'])\n",
        "\n",
        "    # Convert DataFrame to numpy arrays\n",
        "    X = df.drop('Survived', axis=1).values\n",
        "    y = df['Survived'].values\n",
        "\n",
        "    return X, y\n"
      ],
      "metadata": {
        "id": "tdXm-xkCHBXd"
      },
      "execution_count": 14,
      "outputs": []
    }
  ]
}